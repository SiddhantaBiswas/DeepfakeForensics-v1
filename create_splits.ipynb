{
 "cells": [
  {
   "cell_type": "code",
   "execution_count": 1,
   "metadata": {},
   "outputs": [],
   "source": [
    "%matplotlib notebook\n",
    "from util import (\n",
    "    \n",
    "    PairwiseDiffDataset,\n",
    "    VideoDataset,\n",
    "    ImageDataset,\n",
    "    create_train_test_sets, \n",
    "    init_train_test_sets,\n",
    "    run_training,\n",
    "    evaluate\n",
    ")\n",
    "\n",
    "import numpy as np\n",
    "np.random.seed(100)\n",
    "\n",
    "\n"
   ]
  },
  {
   "cell_type": "code",
   "execution_count": 2,
   "metadata": {
    "scrolled": false
   },
   "outputs": [
    {
     "name": "stdout",
     "output_type": "stream",
     "text": [
      "Deriving the correct face labels for the split...\n"
     ]
    },
    {
     "data": {
      "application/vnd.jupyter.widget-view+json": {
       "model_id": "e42bb6f72aea43aabd9147db09305195",
       "version_major": 2,
       "version_minor": 0
      },
      "text/plain": [
       "HBox(children=(FloatProgress(value=0.0, max=5222.0), HTML(value='')))"
      ]
     },
     "metadata": {},
     "output_type": "display_data"
    },
    {
     "name": "stdout",
     "output_type": "stream",
     "text": [
      "\n",
      "\n",
      "Per face labelling derived for split:\n",
      "                         file  label\n",
      "0           019_id36_0002.mp4      0\n",
      "1           041_id36_0002.mp4      0\n",
      "2           004_id36_0002.mp4      0\n",
      "3           024_id36_0002.mp4      0\n",
      "4           033_id36_0002.mp4      0\n",
      "...                       ...    ...\n",
      "91692  009_id46_id45_0008.mp4      1\n",
      "91693  006_id46_id45_0008.mp4      1\n",
      "91694  007_id46_id45_0008.mp4      1\n",
      "91695  001_id46_id45_0008.mp4      1\n",
      "91696  003_id46_id45_0008.mp4      1\n",
      "\n",
      "[91697 rows x 2 columns]\n",
      "\n",
      "Per window labelling for split:\n",
      "                    file  label\n",
      "442        id36_0002.mp4      0\n",
      "6026  id28_id29_0005.mp4      1\n",
      "639     id9_id6_0005.mp4      1\n",
      "3451  id29_id34_0006.mp4      1\n",
      "5183   id6_id37_0005.mp4      1\n",
      "...                  ...    ...\n",
      "2679  id16_id37_0011.mp4      1\n",
      "138   id53_id49_0004.mp4      1\n",
      "6358  id24_id25_0000.mp4      1\n",
      "996     id9_id1_0000.mp4      1\n",
      "5644  id46_id45_0008.mp4      1\n",
      "\n",
      "[5222 rows x 2 columns]\n",
      "Finished split train/!\n",
      "Deriving the correct face labels for the split...\n"
     ]
    },
    {
     "data": {
      "application/vnd.jupyter.widget-view+json": {
       "model_id": "c276f0b3a6ab4d9688960d70ad2b9127",
       "version_major": 2,
       "version_minor": 0
      },
      "text/plain": [
       "HBox(children=(FloatProgress(value=0.0, max=653.0), HTML(value='')))"
      ]
     },
     "metadata": {},
     "output_type": "display_data"
    },
    {
     "name": "stdout",
     "output_type": "stream",
     "text": [
      "\n",
      "\n",
      "Per face labelling derived for split:\n",
      "                         file  label\n",
      "0      008_id21_id31_0002.mp4      1\n",
      "1      001_id21_id31_0002.mp4      1\n",
      "2      003_id21_id31_0002.mp4      1\n",
      "3      007_id21_id31_0002.mp4      1\n",
      "4      004_id21_id31_0002.mp4      1\n",
      "...                       ...    ...\n",
      "11197  000_id57_id49_0000.mp4      1\n",
      "11198  003_id57_id49_0000.mp4      1\n",
      "11199  002_id57_id49_0000.mp4      1\n",
      "11200  008_id57_id49_0000.mp4      1\n",
      "11201  009_id57_id49_0000.mp4      1\n",
      "\n",
      "[11202 rows x 2 columns]\n",
      "\n",
      "Per window labelling for split:\n",
      "                    file  label\n",
      "4933  id21_id31_0002.mp4      1\n",
      "3293  id30_id26_0009.mp4      1\n",
      "5019  id31_id32_0009.mp4      1\n",
      "683   id33_id26_0009.mp4      1\n",
      "3214       id13_0001.mp4      0\n",
      "...                  ...    ...\n",
      "5366   id6_id31_0006.mp4      1\n",
      "1777  id35_id33_0007.mp4      1\n",
      "4695   id0_id26_0004.mp4      1\n",
      "2226   id12_id7_0006.mp4      1\n",
      "6460  id57_id49_0000.mp4      1\n",
      "\n",
      "[653 rows x 2 columns]\n",
      "Finished split val/!\n",
      "Deriving the correct face labels for the split...\n"
     ]
    },
    {
     "data": {
      "application/vnd.jupyter.widget-view+json": {
       "model_id": "96141b9cca214133b6c0121d9c48e670",
       "version_major": 2,
       "version_minor": 0
      },
      "text/plain": [
       "HBox(children=(FloatProgress(value=0.0, max=653.0), HTML(value='')))"
      ]
     },
     "metadata": {},
     "output_type": "display_data"
    },
    {
     "name": "stdout",
     "output_type": "stream",
     "text": [
      "\n",
      "\n",
      "Per face labelling derived for split:\n",
      "                       file  label\n",
      "0      006_id3_id6_0007.mp4      1\n",
      "1      009_id3_id6_0007.mp4      1\n",
      "2      007_id3_id6_0007.mp4      1\n",
      "3      000_id3_id6_0007.mp4      1\n",
      "4      002_id3_id6_0007.mp4      1\n",
      "...                     ...    ...\n",
      "11254  005_id2_id1_0003.mp4      1\n",
      "11255  004_id2_id1_0003.mp4      1\n",
      "11256  006_id2_id1_0003.mp4      1\n",
      "11257  008_id2_id1_0003.mp4      1\n",
      "11258  009_id2_id1_0003.mp4      1\n",
      "\n",
      "[11259 rows x 2 columns]\n",
      "\n",
      "Per window labelling for split:\n",
      "                    file  label\n",
      "6084    id3_id6_0007.mp4      1\n",
      "5393  id28_id22_0003.mp4      1\n",
      "5184    id9_id1_0006.mp4      1\n",
      "2870  id20_id29_0002.mp4      1\n",
      "1580   id35_id3_0000.mp4      1\n",
      "...                  ...    ...\n",
      "4540  id35_id33_0003.mp4      1\n",
      "5873   id3_id28_0006.mp4      1\n",
      "6013  id54_id52_0001.mp4      1\n",
      "906   id21_id24_0001.mp4      1\n",
      "6123    id2_id1_0003.mp4      1\n",
      "\n",
      "[653 rows x 2 columns]\n",
      "Finished split test/!\n"
     ]
    }
   ],
   "source": [
    "CDF_labels_per_file = 'Labels/CDF_labels_per_file.csv'\n",
    "CDF_labels_per_face = 'Labels/CDF_labels_per_face.csv'\n",
    "temporal = False\n",
    "\n",
    "root_dir = 'data/nontemp_jpg_strongperturb/CDF_faces/'\n",
    "root_dir_aug = 'data/nontemp_jpg_strongperturb/CDF_faces_aug/'\n",
    "\n",
    "train_size = 0.8\n",
    "\n",
    "create_train_test_sets(CDF_labels_per_file,\n",
    "                       CDF_labels_per_face,\n",
    "                       root_dir,\n",
    "                       root_dir_aug,\n",
    "                       train_size=train_size,\n",
    "                       temporal=temporal)\n"
   ]
  },
  {
   "cell_type": "code",
   "execution_count": 3,
   "metadata": {},
   "outputs": [],
   "source": [
    "# check balanced labels\n",
    "\n",
    "import pandas as pd\n",
    "train = pd.read_csv('data/nontemp_jpg_strongperturb/CDF_faces/trainlabels_per_face.csv', index_col=0)\n",
    "val = pd.read_csv('data/nontemp_jpg_strongperturb/CDF_faces/vallabels_per_face.csv', index_col=0)\n",
    "test = pd.read_csv('data/nontemp_jpg_strongperturb/CDF_faces/testlabels_per_face.csv', index_col=0)\n"
   ]
  },
  {
   "cell_type": "code",
   "execution_count": 4,
   "metadata": {},
   "outputs": [
    {
     "name": "stdout",
     "output_type": "stream",
     "text": [
      "Fake files in train: 45039\n",
      "Fake files in val: 5680\n",
      "Fake files in test: 5670\n"
     ]
    }
   ],
   "source": [
    "print(f\"Fake files in train: {train.file.loc[train['label'] == 1].count()}\")\n",
    "print(f\"Fake files in val: {val.file.loc[val['label'] == 1].count()}\")\n",
    "print(f\"Fake files in test: {test.file.loc[test['label'] == 1].count()}\")"
   ]
  },
  {
   "cell_type": "code",
   "execution_count": 5,
   "metadata": {},
   "outputs": [
    {
     "name": "stdout",
     "output_type": "stream",
     "text": [
      "Real files in train: 46658\n",
      "Real files in val: 5522\n",
      "Real files in test: 5589\n"
     ]
    }
   ],
   "source": [
    "print(f\"Real files in train: {train.file.loc[train['label'] == 0].count()}\")\n",
    "print(f\"Real files in val: {val.file.loc[val['label'] == 0].count()}\")\n",
    "print(f\"Real files in test: {test.file.loc[test['label'] == 0].count()}\")"
   ]
  },
  {
   "cell_type": "code",
   "execution_count": null,
   "metadata": {},
   "outputs": [],
   "source": []
  },
  {
   "cell_type": "code",
   "execution_count": 6,
   "metadata": {},
   "outputs": [],
   "source": [
    "# double check that no files are in more than one set\n",
    "\n",
    "train = pd.read_csv('data/nontemp_jpg_strongperturb/CDF_faces/trainlabels_per_file.csv', index_col=0)\n",
    "test = pd.read_csv('data/nontemp_jpg_strongperturb/CDF_faces/testlabels_per_file.csv', index_col=0)\n",
    "val = pd.read_csv('data/nontemp_jpg_strongperturb/CDF_faces/vallabels_per_file.csv', index_col=0)\n"
   ]
  },
  {
   "cell_type": "code",
   "execution_count": 7,
   "metadata": {},
   "outputs": [],
   "source": [
    "train_files = list(train.file)\n",
    "test_files = list(test.file)\n",
    "val_files = list(val.file)"
   ]
  },
  {
   "cell_type": "code",
   "execution_count": 8,
   "metadata": {},
   "outputs": [
    {
     "data": {
      "text/plain": [
       "set()"
      ]
     },
     "execution_count": 8,
     "metadata": {},
     "output_type": "execute_result"
    }
   ],
   "source": [
    "set(train_files).intersection(val_files)"
   ]
  },
  {
   "cell_type": "code",
   "execution_count": 9,
   "metadata": {},
   "outputs": [
    {
     "data": {
      "text/plain": [
       "set()"
      ]
     },
     "execution_count": 9,
     "metadata": {},
     "output_type": "execute_result"
    }
   ],
   "source": [
    "set(train_files).intersection(test_files)"
   ]
  },
  {
   "cell_type": "code",
   "execution_count": 10,
   "metadata": {},
   "outputs": [
    {
     "data": {
      "text/plain": [
       "set()"
      ]
     },
     "execution_count": 10,
     "metadata": {},
     "output_type": "execute_result"
    }
   ],
   "source": [
    "set(test_files).intersection(val_files)"
   ]
  },
  {
   "cell_type": "code",
   "execution_count": null,
   "metadata": {},
   "outputs": [],
   "source": []
  },
  {
   "cell_type": "code",
   "execution_count": null,
   "metadata": {},
   "outputs": [],
   "source": []
  }
 ],
 "metadata": {
  "kernelspec": {
   "display_name": "Python 3",
   "language": "python",
   "name": "python3"
  },
  "language_info": {
   "codemirror_mode": {
    "name": "ipython",
    "version": 3
   },
   "file_extension": ".py",
   "mimetype": "text/x-python",
   "name": "python",
   "nbconvert_exporter": "python",
   "pygments_lexer": "ipython3",
   "version": "3.7.6"
  }
 },
 "nbformat": 4,
 "nbformat_minor": 4
}
